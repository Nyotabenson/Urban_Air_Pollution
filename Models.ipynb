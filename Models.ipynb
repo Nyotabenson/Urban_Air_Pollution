{
 "cells": [
  {
   "cell_type": "markdown",
   "id": "21e91acc",
   "metadata": {},
   "source": [
    "# Neural Networks"
   ]
  },
  {
   "cell_type": "code",
   "execution_count": null,
   "id": "cd3a2e5a",
   "metadata": {},
   "outputs": [],
   "source": [
    "import tensorflow as tf\n",
    "from tensorflow import keras\n",
    "from tensorflow.keras import Sequential, Model\n",
    "from tensorflow.keras.layers import Dense, Input"
   ]
  },
  {
   "cell_type": "code",
   "execution_count": null,
   "id": "541f5f0f",
   "metadata": {},
   "outputs": [],
   "source": [
    "model = Sequential()\n",
    "\n",
    "\n",
    "model.add(Dense(1000, activation='relu', input_dim = X.shape[1]))\n",
    "model.add(Dense(1000, activation='relu'))\n",
    "model.add(Dense(1000, activation=\"relu\"))\n",
    "model.add(Dense(1000, activation=\"relu\"))\n",
    "model.add(Dense(1000, activation=\"relu\"))\n",
    "model.add(Dense(500, activation=\"relu\"))\n",
    "\n",
    "\n",
    "\n",
    "model.add(Dense(1, activation = 'linear'))"
   ]
  },
  {
   "cell_type": "code",
   "execution_count": null,
   "id": "28a3067f",
   "metadata": {},
   "outputs": [],
   "source": [
    "%%time\n",
    "model.compile(optimizer='adam', loss = 'mse',\n",
    "             \n",
    "              metrics=['accuracy'])"
   ]
  },
  {
   "cell_type": "code",
   "execution_count": null,
   "id": "4d94e3a9",
   "metadata": {},
   "outputs": [],
   "source": [
    "%%time\n",
    "model.fit(Xtrain_z,y_train.to_numpy(),  epochs = 10, batch_size = 20, verbose = 1, validation_data=(Xtest_z,y_test))"
   ]
  },
  {
   "cell_type": "code",
   "execution_count": null,
   "id": "3ac962b4",
   "metadata": {},
   "outputs": [],
   "source": [
    "dp_pred = model.predict(test_z)"
   ]
  },
  {
   "cell_type": "code",
   "execution_count": null,
   "id": "edd3dc9f",
   "metadata": {},
   "outputs": [],
   "source": [
    "predicts = test[['Place_ID X Date']]\n",
    "predicts['target'] = dp_pred\n",
    "predicts.to_csv('dp_sub.csv', index=False)"
   ]
  },
  {
   "cell_type": "code",
   "execution_count": null,
   "id": "76b56907",
   "metadata": {},
   "outputs": [],
   "source": [
    " ***************************************************"
   ]
  },
  {
   "cell_type": "code",
   "execution_count": null,
   "id": "9ec661aa",
   "metadata": {},
   "outputs": [],
   "source": [
    "param = {'num_leaves': 100,\n",
    "         'min_data_in_leaf': 50, \n",
    "         'objective':'regression',\n",
    "         'max_depth': -1,\n",
    "         'learning_rate': 0.075,\n",
    "         \"boosting\": \"gbdt\",\n",
    "         \"feature_fraction\": 0.35,\n",
    "         \"metric\": 'auc',\n",
    "         \"lambda_l1\": 1,\n",
    "         \"lambda_l2\": 2,\n",
    "         \"random_state\": 6,\n",
    "         \"verbosity\": -1,\n",
    "          'metric' : 'rmse',\n",
    "          'num_iterations': 1500}"
   ]
  },
  {
   "cell_type": "code",
   "execution_count": null,
   "id": "bfbb04b5",
   "metadata": {},
   "outputs": [],
   "source": [
    "X, y = make_classification(n_samples=100, n_features=20, n_informative=15, n_redundant=5, random_state=1)\n",
    "# prepare the cross-validation procedure\n",
    "cv = KFold(n_splits=10, random_state=1, shuffle=True)\n",
    "# create model\n",
    "model = LogisticRegression()\n",
    "# evaluate model\n",
    "scores = cross_val_score(model, X, y, scoring='accuracy', cv=cv, n_jobs=-1)\n",
    "# report performance\n",
    "print('Accuracy: %.3f (%.3f)' % (mean(scores), std(scores)))"
   ]
  },
  {
   "cell_type": "markdown",
   "id": "cda6795f",
   "metadata": {},
   "source": [
    "## Random Regression"
   ]
  },
  {
   "cell_type": "code",
   "execution_count": null,
   "id": "be8761fe",
   "metadata": {},
   "outputs": [],
   "source": [
    "%%time\n",
    "from sklearn.ensemble import RandomForestRegressor\n",
    "# Instantiate model\n",
    "model = RandomForestRegressor(n_jobs=-1,\n",
    "                              random_state=42)\n",
    "\n",
    "# Fit the model\n",
    "model.fit(Xtrain_z,y_train)"
   ]
  },
  {
   "cell_type": "code",
   "execution_count": null,
   "id": "30b16337",
   "metadata": {},
   "outputs": [],
   "source": [
    "rf = model.predict(z_test_cols)"
   ]
  },
  {
   "cell_type": "code",
   "execution_count": null,
   "id": "2d8b0397",
   "metadata": {},
   "outputs": [],
   "source": [
    "predicts = test[['Place_ID X Date']]\n",
    "predicts['target'] = rf\n",
    "predicts.to_csv('rf_sub.csv', index=False)"
   ]
  },
  {
   "cell_type": "code",
   "execution_count": null,
   "id": "9577db8f",
   "metadata": {},
   "outputs": [],
   "source": [
    "y_pred = model.predict(Xtest_z)\n",
    "np.sqrt(mse(y_test, y_pred))"
   ]
  },
  {
   "cell_type": "code",
   "execution_count": null,
   "id": "5940967b",
   "metadata": {},
   "outputs": [],
   "source": []
  },
  {
   "cell_type": "code",
   "execution_count": null,
   "id": "08f354ef",
   "metadata": {},
   "outputs": [],
   "source": [
    "                *********************************************"
   ]
  },
  {
   "cell_type": "code",
   "execution_count": null,
   "id": "42ced3b5",
   "metadata": {},
   "outputs": [],
   "source": []
  },
  {
   "cell_type": "code",
   "execution_count": null,
   "id": "173b96ae",
   "metadata": {},
   "outputs": [],
   "source": []
  },
  {
   "cell_type": "code",
   "execution_count": null,
   "id": "7bc3452c",
   "metadata": {},
   "outputs": [],
   "source": []
  },
  {
   "cell_type": "code",
   "execution_count": null,
   "id": "56601f2e",
   "metadata": {},
   "outputs": [],
   "source": []
  },
  {
   "cell_type": "code",
   "execution_count": null,
   "id": "63b0b2ad",
   "metadata": {},
   "outputs": [],
   "source": []
  },
  {
   "cell_type": "code",
   "execution_count": null,
   "id": "78be7dad",
   "metadata": {},
   "outputs": [],
   "source": []
  },
  {
   "cell_type": "code",
   "execution_count": null,
   "id": "f93530b9",
   "metadata": {},
   "outputs": [],
   "source": []
  },
  {
   "cell_type": "code",
   "execution_count": null,
   "id": "1ff8b707",
   "metadata": {},
   "outputs": [],
   "source": []
  }
 ],
 "metadata": {
  "kernelspec": {
   "display_name": "Python 3 (ipykernel)",
   "language": "python",
   "name": "python3"
  },
  "language_info": {
   "codemirror_mode": {
    "name": "ipython",
    "version": 3
   },
   "file_extension": ".py",
   "mimetype": "text/x-python",
   "name": "python",
   "nbconvert_exporter": "python",
   "pygments_lexer": "ipython3",
   "version": "3.10.7"
  }
 },
 "nbformat": 4,
 "nbformat_minor": 5
}
